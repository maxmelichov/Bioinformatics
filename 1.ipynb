{
 "cells": [
  {
   "cell_type": "code",
   "execution_count": null,
   "id": "59a358ce",
   "metadata": {},
   "outputs": [],
   "source": [
    "import numpy as np\n",
    "import pandas as pd\n",
    "from pandas.plotting import scatter_matrix\n",
    "from pandas_profiling import ProfileReport\n",
    "import sweetviz as sv\n",
    "import seaborn as sns\n",
    "import matplotlib.pyplot as plt\n",
    "from scipy import stats\n",
    "#למידת מכונה\n",
    "from sklearn.model_selection import train_test_split\n",
    "%matplotlib inline\n",
    "import warnings\n",
    "warnings.filterwarnings('ignore')"
   ]
  },
  {
   "cell_type": "code",
   "execution_count": null,
   "id": "f180e5f6",
   "metadata": {},
   "outputs": [],
   "source": [
    "df= pd.read_csv(\"5.4 full_data.csv\")"
   ]
  },
  {
   "cell_type": "code",
   "execution_count": null,
   "id": "e096d4f5",
   "metadata": {},
   "outputs": [],
   "source": [
    "df.head()"
   ]
  },
  {
   "cell_type": "markdown",
   "id": "6ed47d92",
   "metadata": {},
   "source": [
    "# הוצאת וסידור משתנים\n"
   ]
  },
  {
   "cell_type": "code",
   "execution_count": null,
   "id": "516f576e",
   "metadata": {},
   "outputs": [],
   "source": [
    "df.replace([np.inf, -np.inf], np.nan, inplace=True)"
   ]
  },
  {
   "cell_type": "code",
   "execution_count": null,
   "id": "1a13f748",
   "metadata": {},
   "outputs": [],
   "source": [
    "df['sw_pregnant'].fillna(value=0,inplace = True)"
   ]
  },
  {
   "cell_type": "code",
   "execution_count": null,
   "id": "1512be0a",
   "metadata": {},
   "outputs": [],
   "source": [
    "df['sw_pregnant'].isnull().sum()"
   ]
  },
  {
   "cell_type": "code",
   "execution_count": null,
   "id": "6accb03f",
   "metadata": {},
   "outputs": [],
   "source": [
    "for i in range(len(df['sw_pregnant'])):\n",
    "    if df['sw_pregnant'][i]==2 or df['sw_pregnant'][i]==3:\n",
    "        df['sw_pregnant'][i]=0\n",
    "    elif df['sw_smoke_100'][i]==7 or df['sw_smoke_100'][i]==9:\n",
    "        df['sw_smoke_100'][i]=2\n",
    "    elif df['sw_smoke_actual'][i]==7:\n",
    "        df['sw_smoke_actual'][i]=2"
   ]
  },
  {
   "cell_type": "code",
   "execution_count": null,
   "id": "04282707",
   "metadata": {},
   "outputs": [],
   "source": [
    "df['sw_pregnant'].value_counts()"
   ]
  },
  {
   "cell_type": "code",
   "execution_count": null,
   "id": "11ee3242",
   "metadata": {},
   "outputs": [],
   "source": [
    "df['sw_smoke_100'].value_counts()"
   ]
  },
  {
   "cell_type": "code",
   "execution_count": null,
   "id": "0790219f",
   "metadata": {},
   "outputs": [],
   "source": [
    "df['sw_smoke_actual'].value_counts()"
   ]
  },
  {
   "cell_type": "markdown",
   "id": "a0a46377",
   "metadata": {},
   "source": [
    "צריך לחלק את הדאטה לאימון וטסט לפני שמתחילים לעבוד על הדטאה\n"
   ]
  },
  {
   "cell_type": "code",
   "execution_count": null,
   "id": "ff0bd0d6",
   "metadata": {},
   "outputs": [],
   "source": [
    "x_train , x_test = train_test_split(df,test_size=0.2,random_state=42)"
   ]
  },
  {
   "cell_type": "markdown",
   "id": "d788c129",
   "metadata": {},
   "source": [
    "בדיקות קשר"
   ]
  },
  {
   "cell_type": "code",
   "execution_count": null,
   "id": "179954cb",
   "metadata": {},
   "outputs": [],
   "source": [
    "stats.spearmanr(df['HOUSE_INDIV'], df['FAMILY_SIZE']) "
   ]
  },
  {
   "cell_type": "code",
   "execution_count": null,
   "id": "f488617f",
   "metadata": {},
   "outputs": [],
   "source": [
    "cor_matrix=df.corr(method=\"spearman\")"
   ]
  },
  {
   "cell_type": "code",
   "execution_count": null,
   "id": "d6f4c7ce",
   "metadata": {},
   "outputs": [],
   "source": [
    "plt.figure(figsize=(10,10))\n",
    "ax =sns.heatmap(cor_matrix)"
   ]
  },
  {
   "cell_type": "code",
   "execution_count": null,
   "id": "13e2cfe7",
   "metadata": {},
   "outputs": [],
   "source": [
    "cor_matrix['HOUSE_INDIV']['FAMILY_SIZE']"
   ]
  },
  {
   "cell_type": "markdown",
   "id": "3cd7970c",
   "metadata": {},
   "source": [
    "הוצאה לטבלה אחת ברורה כל הקורילציות הגדולות מ0.7 חיובי ושלילי\n"
   ]
  },
  {
   "cell_type": "code",
   "execution_count": null,
   "id": "3becf3a1",
   "metadata": {},
   "outputs": [],
   "source": [
    "#cor_matrix.dropna(inplace=True)\n",
    "list_x=list()\n",
    "list_y=list()\n",
    "list_cor=list()\n",
    "for x in cor_matrix.columns:\n",
    "    for y in cor_matrix.columns:\n",
    "        if abs(cor_matrix[x][y])>0.7 and x!=y:\n",
    "           list_x.append(x)\n",
    "           list_y.append(y)\n",
    "           list_cor.append(cor_matrix[x][y])"
   ]
  },
  {
   "cell_type": "code",
   "execution_count": null,
   "id": "0efce877",
   "metadata": {},
   "outputs": [],
   "source": [
    "cor=pd.DataFrame()\n",
    "cor['x']=list_x\n",
    "cor['y']=list_y\n",
    "cor['cor_value']=list_cor\n"
   ]
  },
  {
   "cell_type": "code",
   "execution_count": null,
   "metadata": {},
   "outputs": [],
   "source": [
    "df_New=pd.DataFrame()\n",
    "df_New['GLUCOSE']=df['GLUCOSE']\n",
    "df_New['Glucose_basal']=df['Glucose_basal']\n",
    "df_New.dropna(inplace=True)\n",
    "print(df_New.isnull().sum())\n",
    "stats.spearmanr(df_New['GLUCOSE'],df_New['Glucose_basal'])"
   ]
  },
  {
   "cell_type": "code",
   "execution_count": null,
   "id": "9b9442d8",
   "metadata": {},
   "outputs": [],
   "source": [
    "sns.scatterplot(data =df_New,x = 'Glucose_basal',y='GLUCOSE', sizes = (20,200),legend=\"full\")"
   ]
  },
  {
   "cell_type": "code",
   "execution_count": null,
   "id": "5e6af76c",
   "metadata": {},
   "outputs": [],
   "source": [
    "_p=list()\n",
    "for i in range(len(cor)):\n",
    "    _p.append(stats.spearmanr(df[cor['x'][i]], df[cor['y'][i]],nan_policy='omit')[1])\n",
    "cor['p_value']= _p"
   ]
  },
  {
   "cell_type": "code",
   "execution_count": null,
   "id": "05e1e12e",
   "metadata": {},
   "outputs": [],
   "source": [
    "cor.drop_duplicates(subset='cor_value',keep='first' ,inplace=True,ignore_index=True)"
   ]
  },
  {
   "cell_type": "code",
   "execution_count": null,
   "id": "53994f32",
   "metadata": {},
   "outputs": [],
   "source": [
    "cor"
   ]
  },
  {
   "cell_type": "code",
   "execution_count": null,
   "id": "6051c2d7",
   "metadata": {},
   "outputs": [],
   "source": [
    "cor.to_csv(\"all_corr_new.csv\")"
   ]
  },
  {
   "cell_type": "code",
   "execution_count": null,
   "id": "903ef396",
   "metadata": {},
   "outputs": [],
   "source": [
    "ig,axs=plt.subplots(6,4,figsize=(25,40))\n",
    "axs = axs.ravel()\n",
    "pd.set_option(\"display.max_columns\",None)\n",
    "for i in range(len(cor)):\n",
    "    axs[i].set_title(cor['x'][i]+\" AND \"+ cor['y'][i])\n",
    "    sns.scatterplot(data =df,x = cor['x'][i],y=cor['y'][i], ax = axs[i], sizes = (20,200),legend=\"full\", style=\"GENDER\",hue=\"GENDER\",palette=\"deep\",alpha=1)\n",
    "    sns.despine()"
   ]
  },
  {
   "cell_type": "code",
   "execution_count": null,
   "id": "a5cb5ce6",
   "metadata": {},
   "outputs": [],
   "source": [
    "scatter_matrix(df , figsize=(200,600))"
   ]
  },
  {
   "cell_type": "code",
   "execution_count": null,
   "id": "a34e6ae3",
   "metadata": {},
   "outputs": [],
   "source": [
    "df['INTERVIE_wgt'].describe()"
   ]
  },
  {
   "cell_type": "markdown",
   "id": "a72341ca",
   "metadata": {},
   "source": [
    "חילוק הטבלה הגדולה לשתי טבלאות קטנות יותר של נשים וגברים"
   ]
  },
  {
   "cell_type": "code",
   "execution_count": null,
   "id": "ec5f3bcc",
   "metadata": {},
   "outputs": [],
   "source": [
    "male=pd.DataFrame()\n",
    "female=pd.DataFrame()\n",
    "male = df.loc[df['GENDER']==1,: ]\n",
    "male.reset_index(drop=True,inplace=True)\n",
    "female=df.loc[df['GENDER']==2,: ]\n",
    "female.reset_index(drop=True,inplace=True)"
   ]
  },
  {
   "cell_type": "code",
   "execution_count": null,
   "id": "4a2d6951",
   "metadata": {},
   "outputs": [],
   "source": [
    "female.shape"
   ]
  },
  {
   "cell_type": "code",
   "execution_count": null,
   "id": "8205b9e3",
   "metadata": {},
   "outputs": [],
   "source": [
    "male.shape"
   ]
  },
  {
   "cell_type": "code",
   "execution_count": null,
   "id": "73d42cc0",
   "metadata": {},
   "outputs": [],
   "source": [
    "male.to_csv('only_male.csv')\n",
    "female.to_csv('only_female.csv')"
   ]
  },
  {
   "cell_type": "code",
   "execution_count": null,
   "id": "49df242b",
   "metadata": {},
   "outputs": [],
   "source": [
    "my_report = sv.analyze(female)\n",
    "my_report.show_html(filepath=r\"C:\\Users\\maxme\\Desktop\\ביואינפורמטיקה\\female_sweetviz.html\")"
   ]
  },
  {
   "cell_type": "code",
   "execution_count": null,
   "id": "2b300653",
   "metadata": {},
   "outputs": [],
   "source": [
    "my_report = sv.analyze(male)\n",
    "my_report.show_html(filepath=r\"C:\\Users\\maxme\\Desktop\\ביואינפורמטיקה\\male_sweetviz.html\")"
   ]
  },
  {
   "cell_type": "code",
   "execution_count": null,
   "id": "c23d5728",
   "metadata": {},
   "outputs": [],
   "source": [
    "my_report = sv.analyze(df)\n",
    "my_report.show_html(filepath=r\"C:\\Users\\maxme\\Desktop\\ביואינפורמטיקה\\all_sweetviz.html\")"
   ]
  },
  {
   "cell_type": "code",
   "execution_count": null,
   "id": "5671da4d",
   "metadata": {},
   "outputs": [],
   "source": [
    "profile = ProfileReport(df, title=\"Pandas Profiling Report\")"
   ]
  },
  {
   "cell_type": "code",
   "execution_count": null,
   "id": "2e54cb82",
   "metadata": {},
   "outputs": [],
   "source": [
    "profile.to_file(\"5.4df.html\")"
   ]
  },
  {
   "cell_type": "code",
   "execution_count": null,
   "id": "ea234f9c",
   "metadata": {},
   "outputs": [],
   "source": [
    "sns.boxplot(x=\"GENDER\", y=\"AGE\", data=df)\n",
    "sns.displot(x=\"AGE\", col=\"GENDER\", data=df,rug=True,kind=\"kde\")"
   ]
  },
  {
   "cell_type": "code",
   "execution_count": null,
   "metadata": {},
   "outputs": [],
   "source": [
    "cat = ['GENDER','ETHNICITY','HOUSE_INDIV','FAMILY_SIZE','sw_pregnant','sw_smoke_100','sw_smoke_actual','sw_smoker','sw_smoker_cat','sw_cannabis','last_cannabis_time','sw_drugs','sw_coccaine','sw_heroin','sw_methamphetamine','sw_diab','sw_prediab','sw_diabrisk','sw_insulin','sw_oral_antidiab','diab_retinopathy','insulin_period','CAD','CHF','MI','STROKE','FAMILY_DIAB','sw_asthma_ever','sw_overweight','sw_malignancy','RENAL','DIALYSIS','sw_smoker_cat','pulse_type']\n",
    "cat_cols=pd.DataFrame()\n",
    "num_cols=pd.DataFrame()\n",
    "for i in df.columns:\n",
    "    if i in cat:\n",
    "        cat_cols[i]= df[i]\n",
    "    else:\n",
    "        num_cols[i]=df[i]\n"
   ]
  },
  {
   "cell_type": "code",
   "execution_count": null,
   "id": "153d2443",
   "metadata": {},
   "outputs": [],
   "source": [
    "ig,axs=plt.subplots(50,28,figsize=(200,600))\n",
    "axs = axs.ravel()\n",
    "pd.set_option(\"display.max_columns\",None)\n",
    "k=0\n",
    "for i in cat_cols.columns:\n",
    "    for j in num_cols.columns:\n",
    "            axs[k].set_title(i+\" AND \"+ j)\n",
    "            sns.boxplot(x=i, y=j, data=df,ax=axs[k])\n",
    "            # sns.displot(x=i, col=j, data=df,rug=True,kind=\"kde\")\n",
    "            sns.despine()\n",
    "            k+=1\n",
    "        \n"
   ]
  },
  {
   "cell_type": "code",
   "execution_count": null,
   "id": "8b63c179",
   "metadata": {},
   "outputs": [],
   "source": [
    "# ig,axs=plt.subplots(55,35,figsize=(200,700))\n",
    "# axs = axs.ravel()\n",
    "\n",
    "pd.set_option(\"display.max_columns\",None)\n",
    "# k=0\n",
    "for i in cat_cols.columns:\n",
    "    for j in num_cols.columns:\n",
    "            # axs[k].set_title(i+\" AND \"+ j)\n",
    "            # sns.boxplot(x=i, y=j, data=df,ax=axs[k])\n",
    "            sns.catplot(x=i, y=j, data=df)\n",
    "            sns.despine()\n",
    "            print(i + \" \"+ j)\n",
    "            plt.savefig(r\"C:\\Users\\maxme\\Desktop\\ביואינפורמטיקה\\Graphs2\\catplot \"+ i +\" AND \"+ j +\".png\")\n",
    "            # k+=1\n",
    "        "
   ]
  },
  {
   "cell_type": "code",
   "execution_count": null,
   "id": "c41d83a5",
   "metadata": {},
   "outputs": [],
   "source": [
    "import os.path\n",
    "pd.set_option(\"display.max_columns\",None)\n",
    "# k=0\n",
    "for i in cat_cols.columns:\n",
    "    for j in num_cols.columns:\n",
    "        print(i + \" \"+ j)\n",
    "        # if os.path.exists(r\"C:\\Users\\maxme\\Desktop\\ביואינפורמטיקה\\Graphs\\displot \"+ i +\" AND \"+ j +\".png\")==False:\n",
    "                # axs[k].set_title(i+\" AND \"+ j)\n",
    "        sns.displot(x=j, col=i, data=df)\n",
    "                # sns.catplot(x=i, y=j, data=df)\n",
    "        sns.despine()\n",
    "                \n",
    "        plt.savefig(r\"C:\\Users\\maxme\\Desktop\\ביואינפורמטיקה\\Graphs2\\displot \"+ i +\" AND \"+ j +\".png\")\n",
    "                # k+=1"
   ]
  },
  {
   "cell_type": "code",
   "execution_count": null,
   "id": "a518d1da",
   "metadata": {},
   "outputs": [],
   "source": [
    "df['pulse_type'].value_counts()"
   ]
  },
  {
   "cell_type": "code",
   "execution_count": null,
   "id": "22b43180",
   "metadata": {},
   "outputs": [],
   "source": [
    "\n",
    "for i in cat_cols.columns:\n",
    "    for j in num_cols.columns:\n",
    "            ig, (ax_box, ax_hist) = plt.subplots(58,32, gridspec_kw={\"height_ratios\": (.15, .85)},sharex=True)\n",
    "            print(i +' '+j )\n",
    "            pd.set_option(\"display.max_columns\",None)\n",
    "            # ax_hist.set_title(i+\" AND \"+ j)\n",
    "            # sns.boxplot(x=i, y=j, data=df,ax=axs[k])\n",
    "            sns.boxplot(x=i, y=j, data=df,ax=ax_box)\n",
    "            sns.displot(x=j, col=i, data=df,ax=ax_hist)\n",
    "            sns.despine()\n",
    "            \n",
    "            "
   ]
  },
  {
   "cell_type": "code",
   "execution_count": null,
   "id": "1c542644",
   "metadata": {},
   "outputs": [],
   "source": [
    "\n",
    "# ig, ax= plt.subplots(2,1,figsize=(8,6),\n",
    "#                       gridspec_kw={\"height_ratios\": (.40, .85)})\n",
    "# print(i +' '+j )\n",
    "\n",
    "            # ax_hist.set_title(i+\" AND \"+ j)\n",
    "            # sns.boxplot(x=i, y=j, data=df,ax=axs[k])\n",
    "# sns.boxplot(x='GENDER', y=\"AGE\", data=df,ax=ax[0] )\n",
    "# sns.displot(x='AGE',col='GENDER',data=df,ax=ax[1],legend='full', kind=\"kde\",multiple=\"stack\")\n",
    "# g=sns.jointplot(y='AGE', x=\"GENDER\", data=df,kind = 'hex')\n",
    "# g = sns.jointplot(data=df, x=\"GENDER\", y=\"AGE\",kind='resid')\n",
    "\n",
    "g = sns.jointplot(data=df, y='AGE', x='GENDER', height=5, ratio=2, marginal_ticks=True)\n",
    "\n",
    "g.plot_marginals(sns.displot)\n",
    "g.plot_joint(sns.boxplot)"
   ]
  },
  {
   "cell_type": "code",
   "execution_count": null,
   "id": "8db547f2",
   "metadata": {},
   "outputs": [],
   "source": [
    "ig,axs=plt.subplots(6,4,figsize=(25,40))\n",
    "axs = axs.ravel()\n",
    "pd.set_option(\"display.max_columns\",None)\n",
    "for i in range(len(cor)):\n",
    "    if cor['x'][i] in cat_cols.columns:\n",
    "        axs[i].set_title(cor['x'][i]+\" AND \"+ cor['y'][i])\n",
    "        sns.scatterplot(data =df,x = cor['x'][i],y=cor['y'][i], ax = axs[i], sizes = (20,200),legend=\"full\",hue=cor['x'][i])\n",
    "        sns.despine()\n",
    "    elif cor['y'][i] in cat_cols.columns:\n",
    "        axs[i].set_title(cor['x'][i]+\" AND \"+ cor['y'][i])\n",
    "        sns.scatterplot(data =df,x = cor['x'][i],y=cor['y'][i], ax = axs[i], sizes = (20,200),legend=\"full\",hue=cor['y'][i])\n",
    "        sns.despine()\n",
    "    else:\n",
    "        axs[i].set_title(cor['x'][i]+\" AND \"+ cor['y'][i])\n",
    "        sns.scatterplot(data =df,x = cor['x'][i],y=cor['y'][i], ax = axs[i], sizes = (20,200),legend=\"full\")\n",
    "        sns.despine()"
   ]
  },
  {
   "cell_type": "code",
   "execution_count": null,
   "id": "7f0f97ac",
   "metadata": {},
   "outputs": [],
   "source": [
    "ig,axs=plt.subplots(55,35,figsize=(200,700))\n",
    "axs = axs.ravel()\n",
    "pd.set_option(\"display.max_columns\",None)\n",
    "k=0\n",
    "for i in cat_cols.columns:\n",
    "    for j in num_cols.columns:\n",
    "            axs[k].set_title(i+\" AND \"+ j)\n",
    "            sns.scatterplot(x=i, y=j, data=df,ax=axs[k],hue='GENDER',style=\"GENDER\",palette=\"deep\",sizes=(20, 200), legend=\"full\")\n",
    "            # sns.displot(x=i, col=j, data=df,rug=True,kind=\"kde\")\n",
    "            sns.despine()\n",
    "            k+=1"
   ]
  }
 ],
 "metadata": {
  "interpreter": {
   "hash": "3e89cc40ac0e4ab38e96168c10bcb37749be72486dcb69ea15a3256d7a98f5e5"
  },
  "kernelspec": {
   "display_name": "Python 3.8.8 ('base')",
   "language": "python",
   "name": "python3"
  },
  "language_info": {
   "codemirror_mode": {
    "name": "ipython",
    "version": 3
   },
   "file_extension": ".py",
   "mimetype": "text/x-python",
   "name": "python",
   "nbconvert_exporter": "python",
   "pygments_lexer": "ipython3",
   "version": "3.8.8"
  }
 },
 "nbformat": 4,
 "nbformat_minor": 5
}
